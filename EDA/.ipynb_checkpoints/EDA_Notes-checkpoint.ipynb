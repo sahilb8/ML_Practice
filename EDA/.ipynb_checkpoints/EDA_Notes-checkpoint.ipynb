{
 "cells": [
  {
   "cell_type": "markdown",
   "metadata": {},
   "source": [
    "There are five different steps:\n",
    "\n",
    "1. Sourcing\n",
    "What kind of data we have and how we can source it. \n",
    "\n",
    "2. Cleaning\n",
    "\n",
    "3. Univariate Analysis\n",
    "We consider only one variable at a time. eg take one column and try to find some interseting patterns. \n",
    "\n",
    "4. Bivariate Analysis\n",
    "work on pair of column, or more then 2 columns together.\n",
    "\n",
    "5. Derived Matrix\n",
    "get a new column info from the old data\n",
    "\n",
    "\n",
    "After getting the data and converting it into your required form there are various things you need to do:\n",
    "1. Fix rows and columns\n",
    "2. Fix missing values\n",
    "3. standardize values\n",
    "4. Fix invalid values (bussiness issues, date format, etc)\n",
    "5. Filter data (can have duplicate rows and columns)\n",
    "\n",
    "mostly when you convert to text there can be allignment issues and some long names might create a problem.\n",
    "\n",
    "1. To fix row you can\n",
    "    1. Delete incorrect rows\n",
    "    2. Delete some sort of summary rows\n",
    "    3. Delete extra rows\n",
    "    \n",
    "2. To fix columns\n",
    "    1. Add column name if missing\n",
    "    2. Rename columns\n",
    "    3. Delete unessary column\n",
    "    4. Sometimes splitting of columns can make more sense, eg split year into day,month and year.\n",
    "    5. Sometimes can merge columns(eg first name and last name)\n",
    "    \n",
    "3. To fix missing values from the data\n",
    "    Blank data might not always be a missing data.\n",
    "    1. Depending on the bussiness problem that you are solving you can also delete the row or column containg lots        of missing data.\n",
    "    \n",
    "4. To standardize data\n",
    "    1. bring it to the scale that is understandable to us.\n",
    "    2. take care of outlier values and if possible treat them as missing value and remove them.\n",
    "    3. for character values better to make everything either upper or lower case.\n",
    "    "
   ]
  }
 ],
 "metadata": {
  "kernelspec": {
   "display_name": "Python 3",
   "language": "python",
   "name": "python3"
  },
  "language_info": {
   "codemirror_mode": {
    "name": "ipython",
    "version": 3
   },
   "file_extension": ".py",
   "mimetype": "text/x-python",
   "name": "python",
   "nbconvert_exporter": "python",
   "pygments_lexer": "ipython3",
   "version": "3.6.9"
  }
 },
 "nbformat": 4,
 "nbformat_minor": 2
}
